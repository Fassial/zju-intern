{
 "cells": [
  {
   "cell_type": "code",
   "execution_count": 1,
   "metadata": {},
   "outputs": [],
   "source": [
    "from My_Explorer import *\n",
    "from hog.hog import hog\n",
    "import numpy as np\n",
    "from ROC_plot.draw_plot import draw_roc_plot\n",
    "from sklearn.metrics import roc_curve"
   ]
  },
  {
   "cell_type": "code",
   "execution_count": 8,
   "metadata": {},
   "outputs": [],
   "source": [
    "from linearsvm.liblinearutil import *"
   ]
  },
  {
   "cell_type": "code",
   "execution_count": 9,
   "metadata": {},
   "outputs": [],
   "source": [
    "def get_hog(x):\n",
    "    X = []\n",
    "    for tmpx in x:\n",
    "        normalised_blocks , hog_image = normalised_blocks,hog_image = \\\n",
    "            hog(tmpx, orientations=9, pixels_per_cell=(8, 8), cells_per_block=(4, 4), visualize=True)\n",
    "        X.append(normalised_blocks)\n",
    "    X = np.array(X)\n",
    "    return X"
   ]
  },
  {
   "cell_type": "code",
   "execution_count": 10,
   "metadata": {},
   "outputs": [],
   "source": [
    "dataset = MyExplorer(ipath,lpath)"
   ]
  },
  {
   "cell_type": "code",
   "execution_count": 11,
   "metadata": {},
   "outputs": [],
   "source": [
    "train_x,train_y,valid_x,valid_y = dataset.split_single()"
   ]
  },
  {
   "cell_type": "code",
   "execution_count": 12,
   "metadata": {},
   "outputs": [],
   "source": [
    "train_X = get_hog(train_x)\n",
    "valid_X = get_hog(valid_x)"
   ]
  },
  {
   "cell_type": "code",
   "execution_count": 45,
   "metadata": {},
   "outputs": [],
   "source": [
    "prob  = problem(train_y, train_X)\n",
    "param = parameter('-c 1 -s 0')\n",
    "m = train(prob, param)"
   ]
  },
  {
   "cell_type": "code",
   "execution_count": 90,
   "metadata": {},
   "outputs": [],
   "source": [
    "c_list = [0.03125, 0.0625, 0.125, 0.25, 0.5, 1.0, 2.0, 4.0, 8.0, 16.0, 32.0]"
   ]
  },
  {
   "cell_type": "code",
   "execution_count": 57,
   "metadata": {},
   "outputs": [],
   "source": [
    "def get_linear_pred(c,name):\n",
    "    param = parameter('-c %f -s 0'%c)\n",
    "    m = train(prob, param)\n",
    "    p_label, p_acc, p_val = predict(valid_y, valid_X, m,'-b 1')\n",
    "    y_true = []\n",
    "    for i in p_val:\n",
    "        y_true.append(i[1])\n",
    "    a = np.array(y_true)\n",
    "    np.save(name,a)\n",
    "    return y_true"
   ]
  },
  {
   "cell_type": "code",
   "execution_count": 65,
   "metadata": {},
   "outputs": [],
   "source": [
    "def pic_test(test):\n",
    "    a = np.load(test)\n",
    "    y_true = a.tolist()\n",
    "    plt.xlabel('False Alarm Rate')\n",
    "    plt.ylabel('Recall')\n",
    "    fpr, tpr, threshold = roc_curve(valid_y,y_true)\n",
    "    plt.semilogx(fpr,tpr,color = 'red')\n",
    "    plt.legend(loc='upper right', frameon=False)\n",
    "    plt.show()"
   ]
  },
  {
   "cell_type": "code",
   "execution_count": 91,
   "metadata": {},
   "outputs": [
    {
     "name": "stdout",
     "output_type": "stream",
     "text": [
      "Accuracy = 99.1002% (43174/43566) (classification)\n",
      "Accuracy = 99.1002% (43174/43566) (classification)\n",
      "Accuracy = 99.0979% (43173/43566) (classification)\n",
      "Accuracy = 99.1117% (43179/43566) (classification)\n",
      "Accuracy = 99.1117% (43179/43566) (classification)\n",
      "Accuracy = 99.1048% (43176/43566) (classification)\n",
      "Accuracy = 99.0704% (43161/43566) (classification)\n",
      "Accuracy = 99.0084% (43134/43566) (classification)\n",
      "Accuracy = 98.9671% (43116/43566) (classification)\n",
      "Accuracy = 98.9579% (43112/43566) (classification)\n",
      "Accuracy = 98.9028% (43088/43566) (classification)\n"
     ]
    }
   ],
   "source": [
    "# get all c\n",
    "    for c in c_list:\n",
    "        name = 'liblinear_C_%f.npy'%c\n",
    "        get_linear_pred(c,name)\n",
    "# best liblinear : C = 0.5/1"
   ]
  },
  {
   "cell_type": "code",
   "execution_count": 74,
   "metadata": {},
   "outputs": [],
   "source": [
    "color_list = ['red','blue','black','chocolate','yellow','green','pink','violet']\n",
    "font = {'family': 'Times New Roman',  'weight': 'normal',  'size': 9, }"
   ]
  },
  {
   "cell_type": "code",
   "execution_count": 75,
   "metadata": {},
   "outputs": [],
   "source": [
    "c05 = np.load('liblinear_C_0.5.npy').tolist()\n",
    "c1 = np.load('liblinear_C_1.npy').tolist()\n",
    "c2 = np.load('liblinear_C_2.npy').tolist()\n",
    "c4 = np.load('liblinear_C_4.npy').tolist()"
   ]
  },
  {
   "cell_type": "code",
   "execution_count": 79,
   "metadata": {},
   "outputs": [],
   "source": [
    "score_list = [c05,c1,c2,c4]\n",
    "number_list = [0.5,1,2,4]"
   ]
  },
  {
   "cell_type": "code",
   "execution_count": 94,
   "metadata": {},
   "outputs": [
    {
     "data": {
      "image/png": "[encoded data removed]",
      "text/plain": [
       "<Figure size 432x288 with 1 Axes>"
      ]
     },
     "metadata": {
      "needs_background": "light"
     },
     "output_type": "display_data"
    }
   ],
   "source": [
    "plt.xlabel('False Alarm Rate')\n",
    "plt.ylabel('Recall')\n",
    "for i in range(0,len(score_list)):\n",
    "    num = number_list[i]\n",
    "    y_pred = score_list[i]\n",
    "    #y = valid_y\n",
    "    #compute fpr & tpr\n",
    "    fpr, tpr, threshold = roc_curve(valid_y,y_pred)\n",
    "    plt.semilogx(fpr,tpr,color = color_list[i],label = '$liblinear,c=%i$'%num)\n",
    "    plt.legend(loc='upper right', prop=font, frameon=False)\n",
    "#save_fig_path = os.path.join(save_fig_path,fig_name)\n",
    "plt.show()\n",
    "    # plt.show()"
   ]
  },
  {
   "cell_type": "code",
   "execution_count": null,
   "metadata": {},
   "outputs": [],
   "source": []
  }
 ],
 "metadata": {
  "kernelspec": {
   "display_name": "Python 3",
   "language": "python",
   "name": "python3"
  },
  "language_info": {
   "codemirror_mode": {
    "name": "ipython",
    "version": 3
   },
   "file_extension": ".py",
   "mimetype": "text/x-python",
   "name": "python",
   "nbconvert_exporter": "python",
   "pygments_lexer": "ipython3",
   "version": "3.7.6"
  }
 },
 "nbformat": 4,
 "nbformat_minor": 4
}
