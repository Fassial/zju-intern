{
 "cells": [
  {
   "cell_type": "code",
   "execution_count": 1,
   "metadata": {},
   "outputs": [],
   "source": [
    "from python.svmutil import *"
   ]
  },
  {
   "cell_type": "code",
   "execution_count": 2,
   "metadata": {},
   "outputs": [],
   "source": [
    "from My_Explorer import *"
   ]
  },
  {
   "cell_type": "code",
   "execution_count": 3,
   "metadata": {},
   "outputs": [],
   "source": [
    "from hog.hog import hog"
   ]
  },
  {
   "cell_type": "code",
   "execution_count": 4,
   "metadata": {},
   "outputs": [],
   "source": [
    "import numpy as np"
   ]
  },
  {
   "cell_type": "code",
   "execution_count": 5,
   "metadata": {},
   "outputs": [],
   "source": [
    "from ROC_plot.draw_plot import draw_roc_plot"
   ]
  },
  {
   "cell_type": "code",
   "execution_count": 6,
   "metadata": {},
   "outputs": [],
   "source": [
    "from sklearn.metrics import roc_curve"
   ]
  },
  {
   "cell_type": "code",
   "execution_count": 7,
   "metadata": {},
   "outputs": [],
   "source": [
    "dataset = MyExplorer(ipath,lpath)"
   ]
  },
  {
   "cell_type": "code",
   "execution_count": 8,
   "metadata": {},
   "outputs": [],
   "source": [
    "train_x,train_y,valid_x,valid_y = dataset.split_single()"
   ]
  },
  {
   "cell_type": "code",
   "execution_count": 9,
   "metadata": {},
   "outputs": [],
   "source": [
    "def get_hog(x):\n",
    "    X = []\n",
    "    for tmpx in x:\n",
    "        normalised_blocks , hog_image = normalised_blocks,hog_image = \\\n",
    "            hog(tmpx, orientations=9, pixels_per_cell=(8, 8), cells_per_block=(4, 4), visualize=True)\n",
    "        X.append(normalised_blocks)\n",
    "    X = np.array(X)\n",
    "    return X"
   ]
  },
  {
   "cell_type": "code",
   "execution_count": 10,
   "metadata": {},
   "outputs": [],
   "source": [
    "train_X = get_hog(train_x)"
   ]
  },
  {
   "cell_type": "code",
   "execution_count": 11,
   "metadata": {},
   "outputs": [],
   "source": [
    "valid_X = get_hog(valid_x)"
   ]
  },
  {
   "cell_type": "code",
   "execution_count": 20,
   "metadata": {},
   "outputs": [],
   "source": [
    "#best c in linear svm\n",
    "def C_by_crossvalidation(X,Y):\n",
    "    c_list = [0.03125, 0.0625, 0.125, 0.25, 0.5, 1.0, 2.0, 4.0, 8.0, 16.0, 32.0]\n",
    "    for i in c_list: \n",
    "        #param = svm_parameter('-t 0 -c %f -b 1 -v 5'%i)\n",
    "        #print(param)\n",
    "        #print(\"c:\",i)\n",
    "        svm_train(Y,X,'-t 0 -c %f -b 1 -v 5'%i)"
   ]
  },
  {
   "cell_type": "code",
   "execution_count": null,
   "metadata": {},
   "outputs": [
    {
     "name": "stdout",
     "output_type": "stream",
     "text": [
      "Cross Validation Accuracy = 99.298%\n",
      "Cross Validation Accuracy = 99.2892%\n",
      "Cross Validation Accuracy = 99.2947%\n",
      "Cross Validation Accuracy = 99.2925%\n",
      "Cross Validation Accuracy = 99.2914%\n",
      "Cross Validation Accuracy = 99.2914%\n",
      "Cross Validation Accuracy = 99.2958%\n",
      "Cross Validation Accuracy = 99.3265%\n",
      "Cross Validation Accuracy = 99.3331%\n",
      "Cross Validation Accuracy = 99.3539%\n"
     ]
    }
   ],
   "source": [
    "C_by_crossvalidation(train_X,train_y)"
   ]
  },
  {
   "cell_type": "code",
   "execution_count": 41,
   "metadata": {},
   "outputs": [
    {
     "name": "stderr",
     "output_type": "stream",
     "text": [
      "No handles with labels found to put in legend.\n"
     ]
    },
    {
     "data": {
      "image/png": "[encoded data removed]",
      "text/plain": [
       "<Figure size 432x288 with 1 Axes>"
      ]
     },
     "metadata": {
      "needs_background": "light"
     },
     "output_type": "display_data"
    }
   ],
   "source": [
    "plt.xlabel('False Alarm Rate')\n",
    "plt.ylabel('Recall')\n",
    "fpr, tpr, threshold = roc_curve(valid_y,y_true)\n",
    "plt.semilogx(fpr,tpr,color = 'red')\n",
    "plt.legend(loc='upper right', frameon=False)\n",
    "plt.show()"
   ]
  },
  {
   "cell_type": "code",
   "execution_count": null,
   "metadata": {},
   "outputs": [],
   "source": [
    "def test_kernels():\n",
    "    name_list = ['linear_c_0.5','linear_c_1','rbf_c_4_gamma_0.1','poly_c_4_gamma_0.1']\n",
    "    param_list = ['-t 0 -c 0.5','-t 0 -c 1','-t 2 -c 4 -g 0.1','-t 1 -c 4 -g 0.1']\n",
    "    n = 4 \n",
    "    prob  = svm_problem(train_y, train_X)\n",
    "    for i in range(n):\n",
    "        m = svm_train(prob, param_list[i])\n",
    "        p_labels, p_acc, p_vals = svm_predict(valid_y, valid_X, m,'-b 1')\n",
    "        y_true = []\n",
    "        for j in p_val:\n",
    "            y_true.append(j[1])\n",
    "        np.save(name_list[i]+'.npy',np.array(y_true))"
   ]
  },
  {
   "cell_type": "code",
   "execution_count": null,
   "metadata": {},
   "outputs": [],
   "source": [
    "def find_rbf_param():\n",
    "    name_list = ['rbf_c_0.25_gamma_0.001','rbf_c_0.25_gamma_0.01','rbf_c_0.25_gamma_0.1','rbf_c_0.25_gamma_1',\n",
    "                'rbf_c_1_gamma_0.001','rbf_c_1_gamma_0.01','rbf_c_1_gamma_0.1','rbf_c_1_gamma_1',\n",
    "                'rbf_c_4_gamma_0.001','rbf_c_4_gamma_0.01','rbf_c_4_gamma_0.1','rbf_c_4_gamma_1',\n",
    "                'rbf_c_16_gamma_0.001','rbf_c_16_gamma_0.01','rbf_c_16_gamma_0.1','rbf_c_16_gamma_1']\n",
    "    param_list = ['-t 2 -c 0.25 -g 0.001','-t 2 -c 0.25 -g 0.01','-t 2 -c 0.25 -g 0.1','-t 2 -c 0.25 -g 1',\n",
    "                 '-t 2 -c 1 -g 0.001','-t 2 -c 1 -g 0.01','-t 2 -c 1 -g 0.1','-t 2 -c 1 -g 1',\n",
    "                 '-t 2 -c 4 -g 0.001','-t 2 -c 4 -g 0.01','-t 2 -c 4 -g 0.1','-t 2 -c 4 -g 1',\n",
    "                 '-t 2 -c 16 -g 0.001','-t 2 -c 16 -g 0.01','-t 2 -c 16 -g 0.1','-t 2 -c 16 -g 1']\n",
    "    n = 16\n",
    "    prob  = svm_problem(train_y, train_X)\n",
    "    for i in range(n):\n",
    "        m = svm_train(prob, param_list[i])\n",
    "        p_labels, p_acc, p_vals = svm_predict(valid_y, valid_X, m,'-b 1')\n",
    "        y_true = []\n",
    "        for j in p_val:\n",
    "            y_true.append(j[1])\n",
    "        np.save(name_lis[i]t+'.npy',np.array(y_true))"
   ]
  },
  {
   "cell_type": "code",
   "execution_count": null,
   "metadata": {},
   "outputs": [],
   "source": []
  },
  {
   "cell_type": "code",
   "execution_count": null,
   "metadata": {},
   "outputs": [],
   "source": []
  }
 ],
 "metadata": {
  "kernelspec": {
   "display_name": "Python 3",
   "language": "python",
   "name": "python3"
  },
  "language_info": {
   "codemirror_mode": {
    "name": "ipython",
    "version": 3
   },
   "file_extension": ".py",
   "mimetype": "text/x-python",
   "name": "python",
   "nbconvert_exporter": "python",
   "pygments_lexer": "ipython3",
   "version": "3.7.6"
  }
 },
 "nbformat": 4,
 "nbformat_minor": 4
}
