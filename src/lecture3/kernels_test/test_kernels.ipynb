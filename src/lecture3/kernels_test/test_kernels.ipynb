{
 "cells": [
  {
   "cell_type": "code",
   "execution_count": 1,
   "metadata": {},
   "outputs": [],
   "source": [
    "from python.svmutil import *"
   ]
  },
  {
   "cell_type": "code",
   "execution_count": 2,
   "metadata": {},
   "outputs": [],
   "source": [
    "from My_Explorer import *"
   ]
  },
  {
   "cell_type": "code",
   "execution_count": 3,
   "metadata": {},
   "outputs": [],
   "source": [
    "from hog.hog import hog"
   ]
  },
  {
   "cell_type": "code",
   "execution_count": 4,
   "metadata": {},
   "outputs": [],
   "source": [
    "import numpy as np"
   ]
  },
  {
   "cell_type": "code",
   "execution_count": 5,
   "metadata": {},
   "outputs": [],
   "source": [
    "from ROC_plot.draw_plot import draw_roc_plot"
   ]
  },
  {
   "cell_type": "code",
   "execution_count": 6,
   "metadata": {},
   "outputs": [],
   "source": [
    "from sklearn.metrics import roc_curve"
   ]
  },
  {
   "cell_type": "code",
   "execution_count": 7,
   "metadata": {},
   "outputs": [],
   "source": [
    "dataset = MyExplorer(ipath,lpath)"
   ]
  },
  {
   "cell_type": "code",
   "execution_count": 8,
   "metadata": {},
   "outputs": [],
   "source": [
    "train_x,train_y,valid_x,valid_y = dataset.split_single()"
   ]
  },
  {
   "cell_type": "code",
   "execution_count": 9,
   "metadata": {},
   "outputs": [],
   "source": [
    "def get_hog(x):\n",
    "    X = []\n",
    "    for tmpx in x:\n",
    "        normalised_blocks , hog_image = normalised_blocks,hog_image = \\\n",
    "            hog(tmpx, orientations=9, pixels_per_cell=(8, 8), cells_per_block=(4, 4), visualize=True)\n",
    "        X.append(normalised_blocks)\n",
    "    X = np.array(X)\n",
    "    return X"
   ]
  },
  {
   "cell_type": "code",
   "execution_count": 10,
   "metadata": {},
   "outputs": [],
   "source": [
    "train_X = get_hog(train_x)"
   ]
  },
  {
   "cell_type": "code",
   "execution_count": 11,
   "metadata": {},
   "outputs": [],
   "source": [
    "valid_X = get_hog(valid_x)"
   ]
  },
  {
   "cell_type": "code",
   "execution_count": 23,
   "metadata": {},
   "outputs": [],
   "source": [
    "def test_kernels():\n",
    "    name_list = ['linear_c_0.5','linear_c_1','rbf_c_4_gamma_0.1','poly_c_4_gamma_0.1']\n",
    "    param_list = ['-t 0 -c 0.5','-t 0 -c 1','-t 2 -c 4 -g 0.1','-t 1 -c 4 -g 0.1']\n",
    "    n = 4 \n",
    "    prob  = svm_problem(train_y, train_X)\n",
    "    for i in range(n):\n",
    "        m = svm_train(prob, param_list[i])\n",
    "        p_labels, p_acc, p_vals = svm_predict(valid_y, valid_X, m)\n",
    "        np.save(name_list[i]+'.npy',np.array(p_vals))"
   ]
  },
  {
   "cell_type": "code",
   "execution_count": 24,
   "metadata": {},
   "outputs": [
    {
     "name": "stdout",
     "output_type": "stream",
     "text": [
      "Accuracy = 99.1002% (43174/43566) (classification)\n",
      "Accuracy = 99.1002% (43174/43566) (classification)\n",
      "Accuracy = 99.2081% (43221/43566) (classification)\n",
      "Accuracy = 99.1002% (43174/43566) (classification)\n"
     ]
    }
   ],
   "source": [
    "test_kernels()"
   ]
  },
  {
   "cell_type": "code",
   "execution_count": null,
   "metadata": {},
   "outputs": [],
   "source": []
  }
 ],
 "metadata": {
  "kernelspec": {
   "display_name": "Python 3",
   "language": "python",
   "name": "python3"
  },
  "language_info": {
   "codemirror_mode": {
    "name": "ipython",
    "version": 3
   },
   "file_extension": ".py",
   "mimetype": "text/x-python",
   "name": "python",
   "nbconvert_exporter": "python",
   "pygments_lexer": "ipython3",
   "version": "3.7.6"
  }
 },
 "nbformat": 4,
 "nbformat_minor": 4
}
